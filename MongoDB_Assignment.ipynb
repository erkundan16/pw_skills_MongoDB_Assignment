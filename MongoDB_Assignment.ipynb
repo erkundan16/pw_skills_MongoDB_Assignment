{
 "cells": [
  {
   "cell_type": "markdown",
   "id": "e06efdf0-c102-44ab-a324-3277b9afacb4",
   "metadata": {},
   "source": [
    "Q1. What is MongoDB? Explain non-relational databases in short. In which scenarios it is preferred to use MongoDB over SQL databases?\n",
    "\n",
    "MongoDB is a document-oriented NoSQL database system that provides high scalability, flexibility, and performance. Unlike standard relational databases, MongoDB stores data in a JSON document structure form. Non-relational databases, also known as NoSQL databases, do not depend on a fixed schema, allowing for easier handling of unstructured data⁴³. They are ideal for handling large volumes of data and are highly efficient in distributed environments. MongoDB may be a better choice if you are working on a project that requires handling large volumes of unstructured data or demands high scalability."
   ]
  },
  {
   "cell_type": "markdown",
   "id": "158c5565-19de-4947-8650-b6d4499b3870",
   "metadata": {},
   "source": [
    "Q2. State and Explain the features of MongoDB.\n",
    "\n",
    "MongoDB offers many features:\n",
    "Document Model: MongoDB's document model is simple for developers to learn and use, while still providing all the capabilities needed to meet the most complex requirements at any scale.\n",
    "Sharding: Sharding is the process of splitting larger datasets across multiple distributed instances, or “shards.” When applied to particularly large datasets, sharding helps the database distribute and better execute what might otherwise be problematic and cumbersome queries.\n",
    "High Availability: MongoDB is a distributed database at its core, so high availability, horizontal scaling, and geographic distribution are built in and easy to use.\n",
    "Ad hoc queries, indexing, and real-time aggregation**: These provide powerful ways to access and analyze your data."
   ]
  },
  {
   "cell_type": "markdown",
   "id": "4683c4b2-c3e6-41fd-a14d-e2df35b8cfba",
   "metadata": {},
   "source": [
    "Q3. Write a code to connect MongoDB to Python. Also, create a database and a collection in MongoDB.\n",
    "\n",
    "Here is a simple Python code to connect to MongoDB and create a database and a collection:\n",
    "\n",
    "\n",
    "from pymongo import MongoClient\n",
    "\n",
    "# Create a client connection to the MongoDB server\n",
    "client = MongoClient(\"mongodb://localhost:27017/\")\n",
    "\n",
    "# Create a database\n",
    "db = client[\"mydatabase\"]\n",
    "\n",
    "# Create a collection\n",
    "collection = db[\"mycollection\"]"
   ]
  },
  {
   "cell_type": "markdown",
   "id": "303d3dc9-04b8-4556-951d-56f92ea1830c",
   "metadata": {},
   "source": [
    "Q4. Using the database and the collection created in question number 3, write a code to insert one record, and insert many records. Use the find() and find_one() methods to print the inserted record.\n",
    "\n",
    "Here is a Python code to insert one record and many records into the collection, and then use `find()` and `find_one()` methods to print the inserted records:\n",
    "\n",
    "# Insert one record\n",
    "one_record = {\"name\": \"John\", \"age\": 30, \"city\": \"New York\"}\n",
    "collection.insert_one(one_record)\n",
    "\n",
    "# Insert many records\n",
    "many_records = [\n",
    "    {\"name\": \"Amy\", \"age\": 25, \"city\": \"New York\"},\n",
    "    {\"name\": \"Jenny\", \"age\": 28, \"city\": \"Chicago\"},\n",
    "    {\"name\": \"Tom\", \"age\": 32, \"city\": \"San Francisco\"}\n",
    "]\n",
    "collection.insert_many(many_records)\n",
    "\n",
    "# Print the first record in the collection\n",
    "first_record = collection.find_one()\n",
    "print(first_record)\n",
    "\n",
    "# Print all records in the collection\n",
    "all_records = collection.find()\n",
    "for record in all_records:\n",
    "    print(record)\n"
   ]
  },
  {
   "cell_type": "markdown",
   "id": "7aefd9b9-315b-498d-b55d-e0e1301a6583",
   "metadata": {},
   "source": [
    "Q5. Explain how you can use the find() method to query the MongoDB database. Write a simple code to demonstrate this.\n",
    "\n",
    "The find() method in MongoDB selects documents in a collection and returns a cursor to the selected documents[^30^]. If you want to find all users who have the role of \"admin\", you can use:\n",
    "\n",
    "\n",
    "db.users.find({\"role\": \"admin\"})"
   ]
  },
  {
   "cell_type": "markdown",
   "id": "fc79522c-8fce-419b-a29d-18c2d6d22b4a",
   "metadata": {},
   "source": [
    "Q6. Explain the sort() method. Give an example to demonstrate sorting in MongoDB.\n",
    "\n",
    "The sort() method in MongoDB is used to sort the documents in a collection. The method takes one or more parameters: field or fields to sort by and a value of 1 or -1 to specify an ascending or descending sort respectively.\n",
    "\n",
    "Here is an example of sorting:\n",
    "python\n",
    "# Sort by name in ascending order\n",
    "collection.find().sort(\"name\", 1)\n",
    "\n",
    "# Sort by name in descending order\n",
    "collection.find().sort(\"name\", -1)\n"
   ]
  },
  {
   "cell_type": "markdown",
   "id": "7bb0951c-650a-4d0b-a835-1df53e88d345",
   "metadata": {},
   "source": [
    "Q7. Explain why delete_one(), delete_many(), and drop() is used\n",
    "delete_one(): This method is used to delete one document that matches the specified filter. If multiple documents match the filter, then the method deletes the first document that matches.\n",
    "delete_many(): This method is used to delete all documents that match the specified filter.\n",
    "drop(): This method is used to drop a collection from the database. All the data in the collection is deleted.."
   ]
  },
  {
   "cell_type": "code",
   "execution_count": null,
   "id": "167ea745-8711-4e5d-afb4-ba9b7116f059",
   "metadata": {},
   "outputs": [],
   "source": []
  },
  {
   "cell_type": "code",
   "execution_count": null,
   "id": "c22548d0-2e92-4548-9471-d3681d8a2bfc",
   "metadata": {},
   "outputs": [],
   "source": []
  },
  {
   "cell_type": "code",
   "execution_count": null,
   "id": "11289855-bbb6-43d1-96ef-cf5a3a96ae10",
   "metadata": {},
   "outputs": [],
   "source": []
  }
 ],
 "metadata": {
  "kernelspec": {
   "display_name": "Python 3 (ipykernel)",
   "language": "python",
   "name": "python3"
  },
  "language_info": {
   "codemirror_mode": {
    "name": "ipython",
    "version": 3
   },
   "file_extension": ".py",
   "mimetype": "text/x-python",
   "name": "python",
   "nbconvert_exporter": "python",
   "pygments_lexer": "ipython3",
   "version": "3.10.8"
  }
 },
 "nbformat": 4,
 "nbformat_minor": 5
}
